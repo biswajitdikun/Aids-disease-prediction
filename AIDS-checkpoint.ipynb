{
 "cells": [
  {
   "cell_type": "markdown",
   "metadata": {},
   "source": [
    "DATA MINING PROJECT"
   ]
  },
  {
   "cell_type": "code",
   "execution_count": 1,
   "metadata": {},
   "outputs": [],
   "source": [
    "#import all the necessory packages\n",
    "import csv\n",
    "import numpy as np  \n",
    "import pandas as pd\n",
    "import pylab as pl\n",
    "from sklearn.cluster import KMeans\n",
    "from sklearn.decomposition import PCA"
   ]
  },
  {
   "cell_type": "code",
   "execution_count": null,
   "metadata": {},
   "outputs": [],
   "source": [
    "#read the input dataset\n",
    "#df=pd.read_csv('aids_data_set.csv')\n",
    "#data=np.array(df)\n",
    "#print(data)\n",
    "#df.head()"
   ]
  },
  {
   "cell_type": "code",
   "execution_count": null,
   "metadata": {},
   "outputs": [],
   "source": [
    "#df"
   ]
  },
  {
   "cell_type": "code",
   "execution_count": 2,
   "metadata": {},
   "outputs": [],
   "source": [
    "aids=pd.read_excel(r\"C:\\Users\\Biswajit Satapathy\\Desktop\\study\\breast-w_discA3 (1).xlsx\")\n",
    "#aids=pd.read_excel(r\"C:\\Users\\Biswajit Satapathy\\Documents\\aids_data.xlsx\")"
   ]
  },
  {
   "cell_type": "code",
   "execution_count": 3,
   "metadata": {
    "scrolled": true
   },
   "outputs": [],
   "source": [
    "A=np.array(aids)"
   ]
  },
  {
   "cell_type": "code",
   "execution_count": 4,
   "metadata": {},
   "outputs": [
    {
     "name": "stdout",
     "output_type": "stream",
     "text": [
      "699\n",
      "10\n"
     ]
    }
   ],
   "source": [
    "shape=A.shape\n",
    "row=shape[0]\n",
    "col=shape[1]\n",
    "print(row)\n",
    "print(col)"
   ]
  },
  {
   "cell_type": "code",
   "execution_count": 5,
   "metadata": {},
   "outputs": [],
   "source": [
    "L=[]\n",
    "for i in range(row):\n",
    "    L.append(A[i][col-1])"
   ]
  },
  {
   "cell_type": "code",
   "execution_count": 6,
   "metadata": {},
   "outputs": [],
   "source": [
    "ch1=L[0]\n",
    "sum1=sum2=0\n",
    "for i in range(row):\n",
    "    if(L[i]==ch1):\n",
    "        sum1=sum1+1\n",
    "    else:\n",
    "        sum2=sum2+1\n",
    "        g=i\n",
    "if(sum1>=sum2):\n",
    "    fix=ch1\n",
    "else:\n",
    "    fix=L[g]"
   ]
  },
  {
   "cell_type": "code",
   "execution_count": null,
   "metadata": {},
   "outputs": [],
   "source": [
    "#k=pd.read_excel(r\"C:\\Users\\Biswajit Satapathy\\Desktop\\kval.xlsx\")\n",
    "#K=np.array(k)"
   ]
  },
  {
   "cell_type": "code",
   "execution_count": 7,
   "metadata": {},
   "outputs": [],
   "source": [
    "x=aids.iloc[:,:col-1]\n",
    "y=aids.iloc[:,-1]"
   ]
  },
  {
   "cell_type": "code",
   "execution_count": 8,
   "metadata": {},
   "outputs": [],
   "source": [
    "x=np.array(x)\n",
    "#print(x)"
   ]
  },
  {
   "cell_type": "code",
   "execution_count": 9,
   "metadata": {},
   "outputs": [],
   "source": [
    "from sklearn.model_selection import train_test_split  \n",
    "x_train, x_test, y_train, y_test = train_test_split(x, y,test_size=0.10)"
   ]
  },
  {
   "cell_type": "code",
   "execution_count": 10,
   "metadata": {},
   "outputs": [],
   "source": [
    "xtrain=np.array(x_train)\n",
    "xtest=np.array(x_test)\n",
    "ytrain=np.array(y_train)\n",
    "ytest=np.array(y_test)\n",
    "#ztest=np.array(z_test)\n",
    "#ztrain=np.array(z_train)"
   ]
  },
  {
   "cell_type": "code",
   "execution_count": 11,
   "metadata": {},
   "outputs": [],
   "source": [
    "def match(a,b):\n",
    "    ct=0\n",
    "    for i in range(len(a)):\n",
    "        if a[i]==b[i]:\n",
    "            ct+=1\n",
    "    return ct/len(a)"
   ]
  },
  {
   "cell_type": "code",
   "execution_count": 12,
   "metadata": {},
   "outputs": [],
   "source": [
    "#train vs train data_sets\n",
    "lt=[]\n",
    "for i in range(len(xtrain)):\n",
    "    temp=[]\n",
    "    for j in range(len(xtrain)):\n",
    "        rat=match(xtrain[i][:],xtrain[j][:])\n",
    "        temp.append(rat)\n",
    "        #print(x[i][:])\n",
    "        #print(x[j][:])\n",
    "        #print(rat)\n",
    "    lt.append(temp)"
   ]
  },
  {
   "cell_type": "code",
   "execution_count": 13,
   "metadata": {},
   "outputs": [
    {
     "name": "stdout",
     "output_type": "stream",
     "text": [
      "629\n"
     ]
    }
   ],
   "source": [
    "lt\n",
    "print(len(lt))"
   ]
  },
  {
   "cell_type": "code",
   "execution_count": 14,
   "metadata": {},
   "outputs": [],
   "source": [
    "def match1(a):\n",
    "    ct3=0\n",
    "    temp1=[]\n",
    "    for i in range(len(a)):\n",
    "        if (a[i]>=0.75):\n",
    "            ct3+=1\n",
    "    return ct3"
   ]
  },
  {
   "cell_type": "code",
   "execution_count": 15,
   "metadata": {},
   "outputs": [],
   "source": [
    "lt1=np.array(lt)"
   ]
  },
  {
   "cell_type": "code",
   "execution_count": 16,
   "metadata": {},
   "outputs": [],
   "source": [
    "#main function for the production of the k_values \n",
    "k_values=[]\n",
    "for i in range(len(xtrain)):\n",
    "    temp=(lt1[:,i])\n",
    "    #print(temp)\n",
    "    k_values.append((match1(temp)))  "
   ]
  },
  {
   "cell_type": "code",
   "execution_count": 17,
   "metadata": {
    "scrolled": true
   },
   "outputs": [
    {
     "name": "stdout",
     "output_type": "stream",
     "text": [
      "629\n"
     ]
    }
   ],
   "source": [
    "print(len(k_values))"
   ]
  },
  {
   "cell_type": "code",
   "execution_count": null,
   "metadata": {},
   "outputs": [],
   "source": [
    "from sklearn.linear_model import LogisticRegression\n",
    "#from sklearn.svm import SVC\n",
    "from sklearn.ensemble import RandomForestClassifier\n",
    "from sklearn.datasets import load_digits\n",
    "digits=load_digits()\n",
    "lr=LogisticRegression()\n",
    "rfc=RandomForestClassifier()"
   ]
  },
  {
   "cell_type": "code",
   "execution_count": null,
   "metadata": {},
   "outputs": [],
   "source": [
    "#lr.fit(xtrain,ytrain)\n",
    "#lr.score(xtrain,ytrain)"
   ]
  },
  {
   "cell_type": "code",
   "execution_count": null,
   "metadata": {},
   "outputs": [],
   "source": [
    "#def get_score(model,x_train,x_test,y_train,y_test):\n",
    "#    model.fit(x_train,y_train)\n",
    "#    return model.score(x_test,y_test)"
   ]
  },
  {
   "cell_type": "code",
   "execution_count": null,
   "metadata": {},
   "outputs": [],
   "source": [
    "#get_score(LogisticRegression(),x_train,x_test,y_train,y_test)"
   ]
  },
  {
   "cell_type": "code",
   "execution_count": null,
   "metadata": {},
   "outputs": [],
   "source": [
    "#from sklearn.model_selection import KFold \n",
    "#kf=KFold(n_splits=3)"
   ]
  },
  {
   "cell_type": "code",
   "execution_count": null,
   "metadata": {},
   "outputs": [],
   "source": [
    "#from sklearn.model_selection import StratifiedKFold\n",
    "#folds=StratifiedKFold(n_splits=3)"
   ]
  },
  {
   "cell_type": "code",
   "execution_count": null,
   "metadata": {},
   "outputs": [],
   "source": [
    "#from sklearn.model_selection import cross_val_score\n",
    "#cross_val_score(rfc,digits.data,digits.target)\n",
    "#cross_val_score(RandomForestClassifier(n_estimators=40),x,y)"
   ]
  },
  {
   "cell_type": "code",
   "execution_count": null,
   "metadata": {
    "scrolled": true
   },
   "outputs": [],
   "source": [
    "xtest"
   ]
  },
  {
   "cell_type": "code",
   "execution_count": null,
   "metadata": {
    "scrolled": true
   },
   "outputs": [],
   "source": [
    "ytest"
   ]
  },
  {
   "cell_type": "code",
   "execution_count": null,
   "metadata": {},
   "outputs": [],
   "source": [
    "k_values"
   ]
  },
  {
   "cell_type": "code",
   "execution_count": 20,
   "metadata": {
    "scrolled": true
   },
   "outputs": [],
   "source": [
    "V=[]\n",
    "for i in range(len(xtest)):\n",
    "    X=[]\n",
    "    Y=[]\n",
    "    Z=[]\n",
    "    W=[]\n",
    "    D=[]\n",
    "    DW=[]\n",
    "    for j in range(len(xtrain)):\n",
    "        if(xtest[i][0]==xtrain[j][0]):\n",
    "            X.append(xtrain[j])\n",
    "            Z.append(ytrain[j])\n",
    "            W.append(k_values[j])\n",
    "            #W.append(k)\n",
    "    for s in range(len(X)):\n",
    "        ct=0\n",
    "        for p in range(col-1):\n",
    "            if(X[s][p]==xtest[i][p]):\n",
    "                ct=ct+1\n",
    "        Y.append(ct/(col-1))\n",
    "        for m in range(len(Y)):\n",
    "            for n in range(len(Y)-1-m):\n",
    "                if(Y[n]<Y[n+1]):\n",
    "                    Y[n],Y[n+1]=Y[n+1],Y[n]    #ratio of true val\n",
    "                    Z[n],Z[n+1]=Z[n+1],Z[n]    #subset of ytrain\n",
    "                    X[n],X[n+1]=X[n+1],X[n]    #subset of xtrain\n",
    "                    W[n],W[n+1]=W[n+1],W[n]    #k values      \n",
    "    #print(X)\n",
    "    #print(Y)\n",
    "    #print(len(Z))\n",
    "    #print(W[0])\n",
    "    ld=len(Y)\n",
    "    lld=ld-1\n",
    "    for ind in range(ld):\n",
    "       D.append((Y[lld]-Y[ind])/(Y[lld]-Y[0]))\n",
    "       DW.append(((Y[lld]-Y[ind])/(Y[lld]-Y[0]))*((Y[lld]+Y[0])/(Y[lld]+Y[ind])))\n",
    "    #print(D)\n",
    "    if(W[0]<len(Z)):\n",
    "        sm=W[0]\n",
    "    else:\n",
    "        sm=len(Z)\n",
    "        #print(sm)\n",
    "    arr=[]\n",
    "    arr1=[]\n",
    "    arr2=[]\n",
    "    for c in range(sm):\n",
    "        arr.append(Z[c])\n",
    "        arr1.append(D[c])\n",
    "        arr2.append(DW[c])\n",
    "    #print(arr)\n",
    "    ch=arr[0]\n",
    "    tot1=tot2=0\n",
    "    for d in range(len(arr)):\n",
    "        if(arr[d]==ch):\n",
    "            tot1=tot1+arr1[d]\n",
    "            #tot1=tot1+arr2[d]\n",
    "        else:\n",
    "            tot2=tot2+arr1[d]\n",
    "            #tot2=tot2+arr2[d]\n",
    "            index=d\n",
    "    if(tot1>tot2):\n",
    "        #print(ch)\n",
    "        val=ch\n",
    "    elif(tot1<tot2):\n",
    "        #print(arr[index])\n",
    "        val=arr[index]\n",
    "    else:\n",
    "        #print(fix)\n",
    "        val=fix\n",
    "    V.append(val)    \n",
    "            "
   ]
  },
  {
   "cell_type": "code",
   "execution_count": 21,
   "metadata": {},
   "outputs": [
    {
     "name": "stdout",
     "output_type": "stream",
     "text": [
      "95.71428571428572\n"
     ]
    }
   ],
   "source": [
    "#print(V)\n",
    "#print(ytest)\n",
    "count=0\n",
    "for z in range(len(V)):\n",
    "    if(V[z]==ytest[z]):\n",
    "        count=count+1  \n",
    "acc=(count/len(V))*100\n",
    "print(acc)"
   ]
  }
 ],
 "metadata": {
  "kernelspec": {
   "display_name": "Python 3",
   "language": "python",
   "name": "python3"
  },
  "language_info": {
   "codemirror_mode": {
    "name": "ipython",
    "version": 3
   },
   "file_extension": ".py",
   "mimetype": "text/x-python",
   "name": "python",
   "nbconvert_exporter": "python",
   "pygments_lexer": "ipython3",
   "version": "3.6.5"
  }
 },
 "nbformat": 4,
 "nbformat_minor": 2
}
